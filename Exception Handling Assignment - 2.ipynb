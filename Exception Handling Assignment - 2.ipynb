{
 "cells": [
  {
   "cell_type": "markdown",
   "id": "7d5c11ae",
   "metadata": {},
   "source": [
    "Q1. Explain why we have to use the Exception class while creating a Custom Exception."
   ]
  },
  {
   "cell_type": "markdown",
   "id": "1e09aebb",
   "metadata": {},
   "source": [
    "A1. \n",
    "The Exception class serves as the base class for all built-in exceptions in Python.\n",
    "When creating a custom exception, we inherit from the Exception class to ensure that our \n",
    "custom exception is part of the exception hierarchy and can be caught and handled using the same \n",
    "try-except blocks as built-in exceptions.\n",
    "\n"
   ]
  },
  {
   "cell_type": "markdown",
   "id": "8d725c60",
   "metadata": {},
   "source": [
    "Q2. Write a python program to print Python Exception Hierarchy."
   ]
  },
  {
   "cell_type": "code",
   "execution_count": 2,
   "id": "8f651707",
   "metadata": {},
   "outputs": [
    {
     "name": "stdout",
     "output_type": "stream",
     "text": [
      "The class hierarchy for built-in exceptions is:\n",
      " Exception\n",
      "--- BaseException\n",
      "------ object\n"
     ]
    }
   ],
   "source": [
    "import inspect\n",
    "\n",
    "def print_exception_hierarchy(base_class=Exception):\n",
    "    classes = inspect.getmro(base_class)\n",
    "    \n",
    "    for cls in classes:\n",
    "        print('-' * (classes.index(cls) * 3), cls.__name__)\n",
    "\n",
    "print(\"The class hierarchy for built-in exceptions is:\")\n",
    "print_exception_hierarchy()"
   ]
  },
  {
   "cell_type": "markdown",
   "id": "35a0728b",
   "metadata": {},
   "source": [
    "Q3. What errors are defined in the ArithmeticError class? Explain any two with an example."
   ]
  },
  {
   "cell_type": "markdown",
   "id": "8b389855",
   "metadata": {},
   "source": [
    "A3. \n",
    "The ArithmeticError class is a base class for exceptions raised when arithmetic operations encounter errors. \n",
    "It has three subclasses:\n",
    "\n",
    "OverflowError: This exception is raised when a calculation results in an overflow, meaning the result is too \n",
    "    large to be represented by the data type. For example, trying to assign 2^1000 to an integer variable will \n",
    "    raise an OverflowError.\n",
    "\n",
    "ZeroDivisionError: This exception is raised when an attempt is made to divide a number by zero, which is \n",
    "    mathematically undefined. For instance, dividing any number by 0 will result in a ZeroDivisionError.\n",
    "\n",
    "FloatingPointError: This exception is raised when a floating-point operation fails due to precision or \n",
    "    rounding errors. For example, attempting to calculate the square root of a negative number will raise\n",
    "    a FloatingPointError."
   ]
  },
  {
   "cell_type": "markdown",
   "id": "9c9d6f86",
   "metadata": {},
   "source": [
    "Q4. Why LookupError class is used? Explain with an example KeyError and IndexError."
   ]
  },
  {
   "cell_type": "markdown",
   "id": "40fe8888",
   "metadata": {},
   "source": [
    "A4 . \n",
    "The LookupError class is a base class for exceptions that are raised when a key or index used in a \n",
    "lookup operation is invalid or not found. It has two subclasses:\n",
    "    \n",
    "    KeyError: This exception is raised when a key is not found in a dictionary or other mapping type. \n",
    "        For example, accessing a non-existent key in a dictionary will raise a KeyError.\n",
    "        \n",
    "        data = {\"name\": \"Alice\", \"age\": 30}\n",
    "print(data[\"address\"])  # Raises a KeyError because \"address\" is not a valid key\n",
    "\n",
    "IndexError: This exception is raised when an index is out of range for a sequence type, such \n",
    "    as a list or string. For instance, attempting to access an index beyond the length of a list \n",
    "    will result in an IndexError.\n",
    "    \n",
    "    numbers = [1, 5, 7]\n",
    "print(numbers[3])  # Raises an IndexError because index 3 is out of range"
   ]
  },
  {
   "cell_type": "markdown",
   "id": "0ae920be",
   "metadata": {},
   "source": [
    "Q5. Explain ImportError. What is ModuleNotFoundError?"
   ]
  },
  {
   "cell_type": "markdown",
   "id": "e9156a0b",
   "metadata": {},
   "source": [
    "A5.  ImportError and ModuleNotFoundError are exceptions related to importing modules in Python.\n",
    "\n",
    "ImportError: This exception is raised when there is an error during the import process of a module. \n",
    "    This can happen due to various reasons, such as a syntax error in the module file, a circular \n",
    "    import dependency, or an invalid path to the module.\n",
    "\n",
    "ModuleNotFoundError: This exception is a subclass of ImportError and is raised specifically when \n",
    "    the module being imported cannot be found. This usually indicates that the module is not \n",
    "    installed or is not in the Python search path."
   ]
  },
  {
   "cell_type": "markdown",
   "id": "e65bda06",
   "metadata": {},
   "source": [
    "Q6. List down some best practices for exception handling in python."
   ]
  },
  {
   "cell_type": "markdown",
   "id": "cf2e129b",
   "metadata": {},
   "source": [
    "A6. \n",
    "Use try-except blocks: Encapsulate code that may raise exceptions within try-except blocks to catch and handle errors gracefully.\n",
    "\n",
    "Catch specific exceptions: Catch specific exception types whenever possible to handle different errors appropriately. Avoid catching generic Exception if you can handle specific exceptions.\n",
    "\n",
    "Provide meaningful error messages: When catching exceptions, provide informative error messages that explain the cause of the error and potential remedies.\n",
    "\n",
    "Log exceptions: Log exceptions to a file or system log to keep track of errors and facilitate debugging."
   ]
  }
 ],
 "metadata": {
  "kernelspec": {
   "display_name": "Python 3 (ipykernel)",
   "language": "python",
   "name": "python3"
  },
  "language_info": {
   "codemirror_mode": {
    "name": "ipython",
    "version": 3
   },
   "file_extension": ".py",
   "mimetype": "text/x-python",
   "name": "python",
   "nbconvert_exporter": "python",
   "pygments_lexer": "ipython3",
   "version": "3.11.5"
  }
 },
 "nbformat": 4,
 "nbformat_minor": 5
}
